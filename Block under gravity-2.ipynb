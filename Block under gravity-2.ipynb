{
 "cells": [
  {
   "cell_type": "code",
   "execution_count": 1,
   "metadata": {
    "collapsed": false
   },
   "outputs": [],
   "source": [
    "%matplotlib inline\n",
    "from matplotlib import animation, rc\n",
    "from IPython.display import HTML\n",
    "import numpy as np\n",
    "import matplotlib.pyplot as plt\n",
    "from mpl_toolkits.mplot3d import Axes3D"
   ]
  },
  {
   "cell_type": "code",
   "execution_count": 2,
   "metadata": {
    "collapsed": false
   },
   "outputs": [],
   "source": [
    "def gravity():\n",
    "    global x\n",
    "    global y\n",
    "    global vel\n",
    "    global grid_size\n",
    "    global g\n",
    "    global no_particles\n",
    "    \n",
    "    for i in range(no_particles):\n",
    "        if y[i] <= grid_size/4:\n",
    "            vel[i] = -vel[i]/1.5\n",
    "    \n",
    "        else:\n",
    "            vel[i] = vel[i] + g * timestep\n",
    "    \n",
    "        y[i] = y[i] + vel[i] * timestep\n",
    "    \n",
    "    return\n",
    "  \n",
    "def floor_update():\n",
    "    global x2\n",
    "    global y2\n",
    "    global timestep\n",
    "    global time\n",
    "    \n",
    "    for i in range(lg):\n",
    "        y2[i] = np.sin(grid_size/4 * 0.785 * time + x2[i])\n",
    "    time = time + timestep\n",
    "    return"
   ]
  },
  {
   "cell_type": "code",
   "execution_count": 3,
   "metadata": {
    "collapsed": false
   },
   "outputs": [
    {
     "data": {
      "image/png": "[encoded data removed]",
      "text/plain": [
       "<matplotlib.figure.Figure at 0x1e262e98f60>"
      ]
     },
     "metadata": {},
     "output_type": "display_data"
    }
   ],
   "source": [
    "grid_size = 5\n",
    "no_particles = 1\n",
    "x = []\n",
    "y = []\n",
    "vel = []\n",
    "timestep = 0.01\n",
    "g = -98\n",
    "time = 0\n",
    "#fill area\n",
    "lg = 50\n",
    "x2 = np.linspace(0, grid_size * 2, lg)\n",
    "y2 = []\n",
    "for i in range(lg):\n",
    "    y2.append(grid_size/4)   \n",
    "\n",
    "\n",
    "for i in range(no_particles):\n",
    "    x.append(grid_size/2)\n",
    "    y.append(2 * grid_size)\n",
    "    vel.append(np.random.rand() * -55)\n",
    "\n",
    "fig = plt.figure()\n",
    "ax = plt.axes(xlim=(0, grid_size*2), ylim=(0, grid_size*2), aspect='equal')"
   ]
  },
  {
   "cell_type": "code",
   "execution_count": 4,
   "metadata": {
    "collapsed": false
   },
   "outputs": [],
   "source": [
    "x1 = [0, 0, 3, 3]\n",
    "y1 = [0, 1, 1, 0]\n",
    "rect = np.column_stack([x1, y1])\n",
    "line1, = ax.plot([], [], 'ks', marker = rect, markersize = 120)\n",
    "line2, = ax.plot([], [], 'b', linewidth = 2)\n",
    "lines = [line1, line2]"
   ]
  },
  {
   "cell_type": "code",
   "execution_count": 5,
   "metadata": {
    "collapsed": false
   },
   "outputs": [],
   "source": [
    "def init():\n",
    "    line1.set_data([], [])\n",
    "    line2.set_data([], [])\n",
    "    return lines"
   ]
  },
  {
   "cell_type": "code",
   "execution_count": null,
   "metadata": {
    "collapsed": true
   },
   "outputs": [],
   "source": [
    "def animate(i):\n",
    "    gravity()\n",
    "    floor_update()\n",
    "    line1.set_data(x, y)\n",
    "    line2.set_data(x2, y2)\n",
    "    ax.fill(x2, y2, 'b', alpha=0.3)\n",
    "    fig.canvas.draw()\n",
    "    return lines\n"
   ]
  },
  {
   "cell_type": "code",
   "execution_count": null,
   "metadata": {
    "collapsed": false
   },
   "outputs": [
    {
     "name": "stderr",
     "output_type": "stream",
     "text": [
      "C:\\Users\\Micky\\Anaconda3\\lib\\site-packages\\matplotlib\\lines.py:863: FutureWarning: elementwise comparison failed; returning scalar instead, but in the future will perform elementwise comparison\n",
      "  if self._marker.get_marker() in ('.', ','):\n",
      "C:\\Users\\Micky\\Anaconda3\\lib\\site-packages\\matplotlib\\lines.py:813: FutureWarning: elementwise comparison failed; returning scalar instead, but in the future will perform elementwise comparison\n",
      "  if marker.get_marker() != ',':\n"
     ]
    }
   ],
   "source": [
    "anim = animation.FuncAnimation(fig, animate, init_func = init, frames = 400, interval = 10, blit=True)\n",
    "plt.show()\n",
    "HTML(anim.to_html5_video())"
   ]
  },
  {
   "cell_type": "code",
   "execution_count": null,
   "metadata": {
    "collapsed": true
   },
   "outputs": [],
   "source": []
  }
 ],
 "metadata": {
  "anaconda-cloud": {},
  "kernelspec": {
   "display_name": "Python [default]",
   "language": "python",
   "name": "python3"
  },
  "language_info": {
   "codemirror_mode": {
    "name": "ipython",
    "version": 3
   },
   "file_extension": ".py",
   "mimetype": "text/x-python",
   "name": "python",
   "nbconvert_exporter": "python",
   "pygments_lexer": "ipython3",
   "version": "3.5.2"
  }
 },
 "nbformat": 4,
 "nbformat_minor": 1
}
