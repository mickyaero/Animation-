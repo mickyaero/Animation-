{
 "cells": [
  {
   "cell_type": "code",
   "execution_count": 1,
   "metadata": {
    "collapsed": false
   },
   "outputs": [],
   "source": [
    "%matplotlib inline\n",
    "from matplotlib import animation, rc\n",
    "from IPython.display import HTML\n",
    "import numpy as np\n",
    "import matplotlib.pyplot as plt\n",
    "from mpl_toolkits.mplot3d import Axes3D"
   ]
  },
  {
   "cell_type": "code",
   "execution_count": 2,
   "metadata": {
    "collapsed": false
   },
   "outputs": [],
   "source": [
    "def gravity():\n",
    "    global x\n",
    "    global y\n",
    "    global vel\n",
    "    global grid_size\n",
    "    global g\n",
    "    global no_particles\n",
    "    \n",
    "    for i in range(no_particles):\n",
    "        if y[i] <= grid_size/4:\n",
    "            vel[i] = -vel[i]/1.5\n",
    "    \n",
    "        else:\n",
    "            vel[i] = vel[i] + g * timestep\n",
    "    \n",
    "        y[i] = y[i] + vel[i] * timestep\n",
    "    \n",
    "    return\n",
    "  \n",
    "def floor_update():\n",
    "    global x2\n",
    "    global y2\n",
    "    global timestep\n",
    "    global time\n",
    "    \n",
    "    for i in range(lg):\n",
    "        y2[i] = np.sin(grid_size/4 * 0.785 * time + x2[i])\n",
    "    time = time + timestep\n",
    "    return"
   ]
  },
  {
   "cell_type": "code",
   "execution_count": 9,
   "metadata": {
    "collapsed": false
   },
   "outputs": [
    {
     "data": {
      "text/plain": [
       "<matplotlib.figure.Figure at 0x13e6469de80>"
      ]
     },
     "metadata": {},
     "output_type": "display_data"
    },
    {
     "data": {
      "image/png": "[encoded data removed]",
      "text/plain": [
       "<matplotlib.figure.Figure at 0x13e6469df98>"
      ]
     },
     "metadata": {},
     "output_type": "display_data"
    }
   ],
   "source": [
    "grid_size = 5\n",
    "no_particles = 1\n",
    "x = []\n",
    "y = []\n",
    "vel = []\n",
    "timestep = 0.01\n",
    "g = -98\n",
    "time = 0\n",
    "#fill area\n",
    "lg = 50\n",
    "x2 = np.linspace(0, grid_size * 2, lg)\n",
    "y2 = []\n",
    "for i in range(lg):\n",
    "    y2.append(grid_size/4)   \n",
    "\n",
    "\n",
    "for i in range(no_particles):\n",
    "    x.append(grid_size/2)\n",
    "    y.append(2 * grid_size)\n",
    "    vel.append(np.random.rand() * -55)\n",
    "\n",
    "fig = plt.figure()\n",
    "ax = plt.axes(xlim=(0, grid_size*2), ylim=(-grid_size, grid_size*2), aspect='equal')"
   ]
  },
  {
   "cell_type": "code",
   "execution_count": 10,
   "metadata": {
    "collapsed": false
   },
   "outputs": [
    {
     "data": {
      "image/png": "[encoded data removed]",
      "text/plain": [
       "<matplotlib.figure.Figure at 0x13e6472e7b8>"
      ]
     },
     "metadata": {},
     "output_type": "display_data"
    }
   ],
   "source": [
    "x1 = [0, 0, 3, 3]\n",
    "y1 = [0, 1, 1, 0]\n",
    "rect = np.column_stack([x1, y1])\n",
    "line1, = ax.plot([], [], 'ks', marker = rect, markersize = 120)\n",
    "collection = plt.fill_between(x2, y2, -5, alpha = 0.7)"
   ]
  },
  {
   "cell_type": "code",
   "execution_count": 11,
   "metadata": {
    "collapsed": false
   },
   "outputs": [
    {
     "data": {
      "text/plain": [
       "'\\ndef init():\\n    line1.set_data([], [])\\n    return line1,\\n'"
      ]
     },
     "execution_count": 11,
     "metadata": {},
     "output_type": "execute_result"
    }
   ],
   "source": [
    "\"\"\"\n",
    "def init():\n",
    "    line1.set_data([], [])\n",
    "    return line1,\n",
    "\"\"\""
   ]
  },
  {
   "cell_type": "code",
   "execution_count": 12,
   "metadata": {
    "collapsed": true
   },
   "outputs": [],
   "source": [
    "def animate(i):\n",
    "    #gravity()\n",
    "    #line1.set_data(x, y)\n",
    "    floor_update()\n",
    "    path = collection.get_paths()[0]\n",
    "    \n",
    "    for i in range(lg):\n",
    "        path.vertices[i][1] = y2[i]\n",
    "        \n",
    "    #return #[line1, path.vertices]\n"
   ]
  },
  {
   "cell_type": "code",
   "execution_count": 13,
   "metadata": {
    "collapsed": false
   },
   "outputs": [
    {
     "name": "stderr",
     "output_type": "stream",
     "text": [
      "C:\\Users\\Micky\\Anaconda3\\lib\\site-packages\\matplotlib\\lines.py:863: FutureWarning: elementwise comparison failed; returning scalar instead, but in the future will perform elementwise comparison\n",
      "  if self._marker.get_marker() in ('.', ','):\n"
     ]
    },
    {
     "data": {
      "text/html": [
       "<video width=\"600.0\" height=\"400.0\" controls autoplay loop>\n",
       "  <source type=\"video/mp4\" src=\"data:video/mp4;base64,AAAAHGZ0eXBNNFYgAAACAGlzb21pc28yYXZjMQAAAAhmcmVlAAARW21kYXQAAAKuBgX//6rcRem9\n",
       "5tlIt5Ys2CDZI+7veDI2NCAtIGNvcmUgMTUyIHIyODUxIGJhMjQ4OTkgLSBILjI2NC9NUEVHLTQg\n",
       "QVZDIGNvZGVjIC0gQ29weWxlZnQgMjAwMy0yMDE3IC0gaHR0cDovL3d3dy52aWRlb2xhbi5vcmcv\n",
       "eDI2NC5odG1sIC0gb3B0aW9uczogY2FiYWM9MSByZWY9MyBkZWJsb2NrPTE6MDowIGFuYWx5c2U9\n",
       "MHgzOjB4MTEzIG1lPWhleCBzdWJtZT03IHBzeT0xIHBzeV9yZD0xLjAwOjAuMDAgbWl4ZWRfcmVm\n",
       "PTEgbWVfcmFuZ2U9MTYgY2hyb21hX21lPTEgdHJlbGxpcz0xIDh4OGRjdD0xIGNxbT0wIGRlYWR6\n",
       "b25lPTIxLDExIGZhc3RfcHNraXA9MSBjaHJvbWFfcXBfb2Zmc2V0PS0yIHRocmVhZHM9NiBsb29r\n",
       "YWhlYWRfdGhyZWFkcz0xIHNsaWNlZF90aHJlYWRzPTAgbnI9MCBkZWNpbWF0ZT0xIGludGVybGFj\n",
       "ZWQ9MCBibHVyYXlfY29tcGF0PTAgY29uc3RyYWluZWRfaW50cmE9MCBiZnJhbWVzPTMgYl9weXJh\n",
       "bWlkPTIgYl9hZGFwdD0xIGJfYmlhcz0wIGRpcmVjdD0xIHdlaWdodGI9MSBvcGVuX2dvcD0wIHdl\n",
       "aWdodHA9MiBrZXlpbnQ9MjUwIGtleWludF9taW49MjUgc2NlbmVjdXQ9NDAgaW50cmFfcmVmcmVz\n",
       "aD0wIHJjX2xvb2thaGVhZD00MCByYz1jcmYgbWJ0cmVlPTEgY3JmPTIzLjAgcWNvbXA9MC42MCBx\n",
       "cG1pbj0wIHFwbWF4PTY5IHFwc3RlcD00IGlwX3JhdGlvPTEuNDAgYXE9MToxLjAwAIAAAAhIZYiE\n",
       "ADf//vbw/gU2O5jQlxHN6J0zH78VuLo0N73OAAADAAADAAAI0IvBbWOwLYz4AAAFqfHmIMJCqu7M\n",
       "AVOjM1gtvoMRbFQ3NNJGQx7OmSo03BQczZSG09rbC+D6BvaSg3YTY4HdVAiNYFg/pIR5nhaQ/kQg\n",
       "MvTEu82XKe+oOnw9P6IHv18nzc4raJMgi8y+FFlFWcssBSS2T81X+yL6TUmJzsO+KytbNiG+FOBy\n",
       "5es7r8egUg85SZQw6BtnPa9IOPUYxl+gLJKdputqLM5rcH7Yfxzi4ld911vsDkqhZEQdW+42zhWb\n",
       "h745+Kx7Mc6qQcMnRM0WEoY9BjIH3TdOe9r7J/4X9gLfYdck1c06rCI1R5X7FgBllr6UlvZgqtsU\n",
       "WYBLrN5u0/D1/32EP0uE4DVrSp+k+kKuHhrJRc5+f15oj359YLIIP4q4Qk3ZD24Hph5VSQZWYHxN\n",
       "7KMAATcU6WYTcxWAvzgkSm7BmqlSFa88dIGtYu/JZSHnSjqZKC9wtPlnZoZEZUU3cg2JzUmwTVr2\n",
       "aOrwsTVzWiKDfXepCQM3G3HuJKKMnJJrNkOsdwwneR1NL4qf/E+HDYN3x571Z4171K9+ApQgfHd4\n",
       "hbp09+0juLm3i0ZAgwCwd79WV5VGlhs1g53/YbP4T2f/wmuNO/eJ+n+Md7eydcMpzwzKQpRHsam8\n",
       "CBBriBt2CmxPhtggagHwYqElNDLxHSPGVCwBVGhrO4e5l5mV6zrkUOgthXWE16XoB/AVyNgwfKdo\n",
       "gwXAGojDwXQl5pF8R/IGLCZkJU35k6DmiwC4xPLg7s/7ssR3ElgILSclZrNtfxQXh7Su8OTZm55H\n",
       "XwWl6qL8HW30kU7M6r4Co+c57CkgVxKW5yUFgMpM8k7J6tPvJPuJGf6BSsdXgwXVo2K9ULuM/t4o\n",
       "UVnlC56ZhSGPQDEhRC6YpqJnO7S8wUj32FIshYm+3ldiQTd/kylbOtMACIZKBk1y8Bceqtft0JSP\n",
       "ZnT3gB4s56+XxU+m21/4i4Zzqz9EVpJAj8aWwx79c4GUzbgiz/hmBi/O9+qV/WUthuYCFK+Pn6Ln\n",
       "Ds36hdmDwDkGDUw9btkfATvRXHVPng9xcUaGuyaWVcxDeG7wTBnf/mAuY5hTjs35dU6eVVyGVth6\n",
       "e+oPc6Rux6U63v84x6O8BnTh3kWK7WbIGi4aTT1H/wTFEvXSz4j3yRJf28TWqKuka2x80uKrxrt4\n",
       "itY+MjL8K/iP73e729k65/S6sKD4cCcSB7+bzDJ+kN4Av5lkarifnJQQEA1Nn/Mu+aPJLk3+FZKM\n",
       "K2qrIejadwbJvQeAWIpJe8iYE7Vup44WcEgsg4cXyVzWr35Q5mU76i3l8C4h+ytekaREofLo7n9u\n",
       "UHuzuL/7lfREOOGbWA3XOKE68q9fgrfpbYGWZsAl6X3Bz0aZiuPwK2Jd7qYzeCOrMRB7P/oj/qyQ\n",
       "EfyqAoFZMd1TDdflkbFo6IP/EE1GrgECXEWFlUxGjVYHNGdGeokdnubpyguM0tUXgJe0kkQwAGvO\n",
       "J0TTN48gjE+ai4sYCC4FYnf59z8FBAh3I1B+S3UHua857MjW1aCbhz9ZTrD51xjDEskwrbNOgTHf\n",
       "zq3YxtRn6WSQUcPjH5ajl7nAFX9nRD4XfKA7Sv3WCdmTQRqeO4sjZ03NQtGWgdlQ5MoOk7yTzRZI\n",
       "VH0NZQ0b9pXnXCMjvvodilfn5Ny+4kejon9+Z+d66GsPq24pwabCUrWWHUHGahLi+pBv9LJdJp/Z\n",
       "EF2IQjF28cyrCmowjv2PJoaS3yBZrgbQGk8H+nAeRSukTC/KSdLpvfRC5g82AqS4MxCoDRzLlDAF\n",
       "Wc7A9Yb3Qr3Gimg8Na+kJJ0f8HBMUbymkXL5ADA+2IbCvzhw073TbUzJxInFlMmabieuiOx+xDJS\n",
       "ewFyOIhRoZV36ASwqT/ARLZeOIae2cfTvb2Ts5ptW+YQNjBVIs05pWcxSxMQoI0escAJhpFx0yQM\n",
       "dcUU77dev6FTttT4RpRRKUx3wcOQeQ4K29w50F+u1EqYSWOJ8YR4Y4Fr5NkDvhn4S0BCF8zXwx//\n",
       "bQ4x+Di68i+UDJ8EeMvKR9X4ySIkSNVgFkHLnNrJUzUNizGYX0f4KRgWOc/NGZYwcylfsqBZzbPE\n",
       "LYBO4pafY2h60/Hc5n06AAAJbQ40q7BEnayXOu0OPYgoUE7LZ2g561UQZkeUu7cP2oRqSdzHEC52\n",
       "mzuOLzVDvupNFRXc8HwDucT8BZ4jYxI7MfEVjbSW7tvQ/mskWKkV4Wf6e49b3mSYkSgsV3FSeFtP\n",
       "Bp0OmqUQPPNCbFub97tTsmhaDKzGg5lx1StbvEX8/V5PnNVzwfmC92o0e0wPA0m4w2EzTgq/O+8P\n",
       "eaCbgqcgYQvZ7JogLXR7o5x/lSrtQv0ZP/iJWYXPTgm3pyVJtnzIa79WvG4kw3jfK+nm0AL7vV61\n",
       "MQWYqY1QWImPBfcxO6m7KWGmCgGLBvXC0g1MZ1d9sKM8Wj7GIbM/IUmu31bE7ohcYSSQD6Bma52W\n",
       "DDenaqcez6C9LpLQev2XJRhp16G1pnFn+Yjk9chfqGNBd7eS+Z8YGehlgyCUPlbCBcnRsYtaZR8s\n",
       "BV8MH7ELoG7b43rfrCP+yWDuWm9rt2Z3WE+yB4N9R7BS89Rv/q9qxCpu2q6Qd2cT/frlo+tuOOcS\n",
       "XB1BXZMtzjyEbyIylul4F+/ybnXfA8ovZjLFBtPKghoOaJT9nNrS4lTS074pEZdXK+TBWv8PaI3O\n",
       "L5VowaMajSNmC7No2J977yGvPSu7vb2X0HiM2Ve1pnuUXIz/0Eu0CJwjGt6wm94M55rWAAJggBDi\n",
       "8xc6oAAAiIEAAAB1QZokbEN//qeEAAeVi+gD8cK8Bczegs1+DvYPTcXF4a69JfS0r1V3kklFfabw\n",
       "0U4A3fHRmfgYeYK3uztKVLI7jTFG+GKu1xqi7WiKSONIKo8beQH2uQgrkvvaGVdouCt/XmDmJcjb\n",
       "ny/NxnQGaSi8dBG6by95AAAAE0GeQniFfwAAAwAAEKVSNMUxBuEAAAAUAZ5hdEJ/AAADAABUItgl\n",
       "rUGm7yQAAAAQAZ5jakJ/AAADAAAWK38R4QAAACZBmmhJqEFomUwIb//+p4QAB3PZUS+XoKLE+siW\n",
       "dsSTGXTiv2bgwQAAABRBnoZFESwr/wAAAwAAENkeHBbzNQAAABABnqV0Qn8AAAMAABYkY2phAAAA\n",
       "DwGep2pCfwAAAwAAAwDegAAAABhBmqxJqEFsmUwIb//+p4QAAAMAAAMA1IAAAAARQZ7KRRUsK/8A\n",
       "AAMAAAMArYEAAAAPAZ7pdEJ/AAADAAADAN6AAAAADwGe62pCfwAAAwAAAwDegAAAABhBmvBJqEFs\n",
       "mUwIb//+p4QAAAMAAAMA1IEAAAARQZ8ORRUsK/8AAAMAAAMArYEAAAAPAZ8tdEJ/AAADAAADAN6B\n",
       "AAAADwGfL2pCfwAAAwAAAwDegAAAABhBmzRJqEFsmUwIb//+p4QAAAMAAAMA1IAAAAARQZ9SRRUs\n",
       "K/8AAAMAAAMArYEAAAAPAZ9xdEJ/AAADAAADAN6AAAAADwGfc2pCfwAAAwAAAwDegAAAABhBm3hJ\n",
       "qEFsmUwIb//+p4QAAAMAAAMA1IEAAAARQZ+WRRUsK/8AAAMAAAMArYAAAAAPAZ+1dEJ/AAADAAAD\n",
       "AN6BAAAADwGft2pCfwAAAwAAAwDegQAAABhBm7xJqEFsmUwIb//+p4QAAAMAAAMA1IAAAAARQZ/a\n",
       "RRUsK/8AAAMAAAMArYEAAAAPAZ/5dEJ/AAADAAADAN6AAAAADwGf+2pCfwAAAwAAAwDegQAAABhB\n",
       "m+BJqEFsmUwIb//+p4QAAAMAAAMA1IEAAAARQZ4eRRUsK/8AAAMAAAMArYAAAAAPAZ49dEJ/AAAD\n",
       "AAADAN6AAAAADwGeP2pCfwAAAwAAAwDegQAAABhBmiRJqEFsmUwIb//+p4QAAAMAAAMA1IAAAAAR\n",
       "QZ5CRRUsK/8AAAMAAAMArYEAAAAPAZ5hdEJ/AAADAAADAN6AAAAADwGeY2pCfwAAAwAAAwDegQAA\n",
       "ABhBmmhJqEFsmUwIb//+p4QAAAMAAAMA1IEAAAARQZ6GRRUsK/8AAAMAAAMArYEAAAAPAZ6ldEJ/\n",
       "AAADAAADAN6BAAAADwGep2pCfwAAAwAAAwDegAAAABhBmqxJqEFsmUwIb//+p4QAAAMAAAMA1IAA\n",
       "AAARQZ7KRRUsK/8AAAMAAAMArYEAAAAPAZ7pdEJ/AAADAAADAN6AAAAADwGe62pCfwAAAwAAAwDe\n",
       "gAAAABhBmvBJqEFsmUwIb//+p4QAAAMAAAMA1IEAAAARQZ8ORRUsK/8AAAMAAAMArYEAAAAPAZ8t\n",
       "dEJ/AAADAAADAN6BAAAADwGfL2pCfwAAAwAAAwDegAAAABhBmzRJqEFsmUwIb//+p4QAAAMAAAMA\n",
       "1IAAAAARQZ9SRRUsK/8AAAMAAAMArYEAAAAPAZ9xdEJ/AAADAAADAN6AAAAADwGfc2pCfwAAAwAA\n",
       "AwDegAAAABhBm3hJqEFsmUwIb//+p4QAAAMAAAMA1IEAAAARQZ+WRRUsK/8AAAMAAAMArYAAAAAP\n",
       "AZ+1dEJ/AAADAAADAN6BAAAADwGft2pCfwAAAwAAAwDegQAAABdBm7xJqEFsmUwIZ//+nhAAAAMA\n",
       "AAMDPgAAABFBn9pFFSwr/wAAAwAAAwCtgQAAAA8Bn/l0Qn8AAAMAAAMA3oAAAAAPAZ/7akJ/AAAD\n",
       "AAADAN6BAAAAF0Gb4EmoQWyZTAhn//6eEAAAAwAAAwM/AAAAEUGeHkUVLCv/AAADAAADAK2AAAAA\n",
       "DwGePXRCfwAAAwAAAwDegAAAAA8Bnj9qQn8AAAMAAAMA3oEAAAAWQZokSahBbJlMCFf//jhAAAAD\n",
       "AAAMqAAAABFBnkJFFSwr/wAAAwAAAwCtgQAAAA8BnmF0Qn8AAAMAAAMA3oAAAAAPAZ5jakJ/AAAD\n",
       "AAADAN6BAAAAF0GaZUmoQWyZTAhP//3xAAADAAADAB6RAAAGd21vb3YAAABsbXZoZAAAAAAAAAAA\n",
       "AAAAAAAAA+gAAAg0AAEAAAEAAAAAAAAAAAAAAAABAAAAAAAAAAAAAAAAAAAAAQAAAAAAAAAAAAAA\n",
       "AAAAQAAAAAAAAAAAAAAAAAAAAAAAAAAAAAAAAAAAAAAAAAIAAAWhdHJhawAAAFx0a2hkAAAAAwAA\n",
       "AAAAAAAAAAAAAQAAAAAAAAg0AAAAAAAAAAAAAAAAAAAAAAABAAAAAAAAAAAAAAAAAAAAAQAAAAAA\n",
       "AAAAAAAAAAAAQAAAAAJYAAABkAAAAAAAJGVkdHMAAAAcZWxzdAAAAAAAAAABAAAINAAAAwAAAQAA\n",
       "AAAFGW1kaWEAAAAgbWRoZAAAAAAAAAAAAAAAAAAAMgAAAGkAVcQAAAAAAC1oZGxyAAAAAAAAAAB2\n",
       "aWRlAAAAAAAAAAAAAAAAVmlkZW9IYW5kbGVyAAAABMRtaW5mAAAAFHZtaGQAAAABAAAAAAAAAAAA\n",
       "AAAkZGluZgAAABxkcmVmAAAAAAAAAAEAAAAMdXJsIAAAAAEAAASEc3RibAAAALRzdHNkAAAAAAAA\n",
       "AAEAAACkYXZjMQAAAAAAAAABAAAAAAAAAAAAAAAAAAAAAAJYAZAASAAAAEgAAAAAAAAAAQAAAAAA\n",
       "AAAAAAAAAAAAAAAAAAAAAAAAAAAAAAAAAAAAABj//wAAADJhdmNDAWQAHv/hABlnZAAerNlAmDPl\n",
       "4QAAAwADAAADAMgPFi2WAQAGaOvjyyLAAAAAHHV1aWRraEDyXyRPxbo5pRvPAyPzAAAAAAAAABhz\n",
       "dHRzAAAAAAAAAAEAAABGAAABgAAAABRzdHNzAAAAAAAAAAEAAAABAAACQGN0dHMAAAAAAAAARgAA\n",
       "AAEAAAMAAAAAAQAAB4AAAAABAAADAAAAAAEAAAAAAAAAAQAAAYAAAAABAAAHgAAAAAEAAAMAAAAA\n",
       "AQAAAAAAAAABAAABgAAAAAEAAAeAAAAAAQAAAwAAAAABAAAAAAAAAAEAAAGAAAAAAQAAB4AAAAAB\n",
       "AAADAAAAAAEAAAAAAAAAAQAAAYAAAAABAAAHgAAAAAEAAAMAAAAAAQAAAAAAAAABAAABgAAAAAEA\n",
       "AAeAAAAAAQAAAwAAAAABAAAAAAAAAAEAAAGAAAAAAQAAB4AAAAABAAADAAAAAAEAAAAAAAAAAQAA\n",
       "AYAAAAABAAAHgAAAAAEAAAMAAAAAAQAAAAAAAAABAAABgAAAAAEAAAeAAAAAAQAAAwAAAAABAAAA\n",
       "AAAAAAEAAAGAAAAAAQAAB4AAAAABAAADAAAAAAEAAAAAAAAAAQAAAYAAAAABAAAHgAAAAAEAAAMA\n",
       "AAAAAQAAAAAAAAABAAABgAAAAAEAAAeAAAAAAQAAAwAAAAABAAAAAAAAAAEAAAGAAAAAAQAAB4AA\n",
       "AAABAAADAAAAAAEAAAAAAAAAAQAAAYAAAAABAAAHgAAAAAEAAAMAAAAAAQAAAAAAAAABAAABgAAA\n",
       "AAEAAAeAAAAAAQAAAwAAAAABAAAAAAAAAAEAAAGAAAAAAQAAB4AAAAABAAADAAAAAAEAAAAAAAAA\n",
       "AQAAAYAAAAABAAAHgAAAAAEAAAMAAAAAAQAAAAAAAAABAAABgAAAAAEAAAMAAAAAHHN0c2MAAAAA\n",
       "AAAAAQAAAAEAAABGAAAAAQAAASxzdHN6AAAAAAAAAAAAAABGAAAK/gAAAHkAAAAXAAAAGAAAABQA\n",
       "AAAqAAAAGAAAABQAAAATAAAAHAAAABUAAAATAAAAEwAAABwAAAAVAAAAEwAAABMAAAAcAAAAFQAA\n",
       "ABMAAAATAAAAHAAAABUAAAATAAAAEwAAABwAAAAVAAAAEwAAABMAAAAcAAAAFQAAABMAAAATAAAA\n",
       "HAAAABUAAAATAAAAEwAAABwAAAAVAAAAEwAAABMAAAAcAAAAFQAAABMAAAATAAAAHAAAABUAAAAT\n",
       "AAAAEwAAABwAAAAVAAAAEwAAABMAAAAcAAAAFQAAABMAAAATAAAAGwAAABUAAAATAAAAEwAAABsA\n",
       "AAAVAAAAEwAAABMAAAAaAAAAFQAAABMAAAATAAAAGwAAABRzdGNvAAAAAAAAAAEAAAAsAAAAYnVk\n",
       "dGEAAABabWV0YQAAAAAAAAAhaGRscgAAAAAAAAAAbWRpcmFwcGwAAAAAAAAAAAAAAAAtaWxzdAAA\n",
       "ACWpdG9vAAAAHWRhdGEAAAABAAAAAExhdmY1Ny44My4xMDA=\n",
       "\">\n",
       "  Your browser does not support the video tag.\n",
       "</video>"
      ],
      "text/plain": [
       "<IPython.core.display.HTML object>"
      ]
     },
     "execution_count": 13,
     "metadata": {},
     "output_type": "execute_result"
    }
   ],
   "source": [
    "anim = animation.FuncAnimation(fig, animate, frames = 70, interval = 30)\n",
    "plt.show()\n",
    "HTML(anim.to_html5_video())"
   ]
  },
  {
   "cell_type": "code",
   "execution_count": 8,
   "metadata": {
    "collapsed": false
   },
   "outputs": [
    {
     "data": {
      "text/plain": [
       "'\\nanim = animation.FuncAnimation(fig, animate, init_func = init, frames = 70, interval = 10, blit=True)\\nplt.show()\\nHTML(anim.to_html5_video())\\n'"
      ]
     },
     "execution_count": 8,
     "metadata": {},
     "output_type": "execute_result"
    }
   ],
   "source": [
    "\"\"\"\n",
    "anim = animation.FuncAnimation(fig, animate, init_func = init, frames = 70, interval = 10, blit=True)\n",
    "plt.show()\n",
    "HTML(anim.to_html5_video())\n",
    "\"\"\""
   ]
  }
 ],
 "metadata": {
  "anaconda-cloud": {},
  "kernelspec": {
   "display_name": "Python [default]",
   "language": "python",
   "name": "python3"
  },
  "language_info": {
   "codemirror_mode": {
    "name": "ipython",
    "version": 3
   },
   "file_extension": ".py",
   "mimetype": "text/x-python",
   "name": "python",
   "nbconvert_exporter": "python",
   "pygments_lexer": "ipython3",
   "version": "3.5.2"
  }
 },
 "nbformat": 4,
 "nbformat_minor": 1
}
